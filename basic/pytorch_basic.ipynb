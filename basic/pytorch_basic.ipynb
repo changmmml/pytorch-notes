{
  "nbformat": 4,
  "nbformat_minor": 0,
  "metadata": {
    "colab": {
      "provenance": [],
      "collapsed_sections": [
        "V1yZKhuCT1qT",
        "My26qSL7XPP9",
        "RfNAVWO4wx50"
      ]
    },
    "kernelspec": {
      "name": "python3",
      "display_name": "Python 3"
    },
    "language_info": {
      "name": "python"
    }
  },
  "cells": [
    {
      "cell_type": "markdown",
      "source": [
        "# 1.1. Pytorch Basic\n",
        "---"
      ],
      "metadata": {
        "id": "V1yZKhuCT1qT"
      }
    },
    {
      "cell_type": "code",
      "execution_count": null,
      "metadata": {
        "colab": {
          "base_uri": "https://localhost:8080/"
        },
        "id": "t4wtFSD-SnD5",
        "outputId": "aef67df5-6885-44ba-cabe-dfb3c5307641"
      },
      "outputs": [
        {
          "output_type": "stream",
          "name": "stdout",
          "text": [
            "tensor([1, 2, 3, 4])\n",
            "<class 'torch.Tensor'>\n",
            "torch.int64\n",
            "torch.Size([4])\n",
            "torch.float32\n",
            "tensor([1.0000, 2.0000, 3.1000, 4.0000])\n"
          ]
        }
      ],
      "source": [
        "import torch\n",
        "\n",
        "a = torch.tensor([1,2,3,4]) # list가 입력으로 들어가는 함수\n",
        "print(a)\n",
        "print(type(a))\n",
        "print(a.dtype) # data type\n",
        "print(a.shape)\n",
        "\n",
        "b = torch.tensor([1,2,3.1,4])\n",
        "print(b.dtype) # 하나라도 실수면 자동으로 실수 타입으로 변경\n",
        "print(b)"
      ]
    },
    {
      "cell_type": "code",
      "source": [
        "A = torch.tensor([[1,2,3],[3,4,5]])\n",
        "#A = torch.tensor([[1,2],[3,4,5]]) # 리스트와는 달리 행렬은 각 행에 해당하는 숫자의 개수가 같아야 함\n",
        "print(A)\n",
        "print(A.shape)\n",
        "print(A.ndim) # 차원의 수\n",
        "print(A.numel()) # 전체 성분(element)의 수"
      ],
      "metadata": {
        "colab": {
          "base_uri": "https://localhost:8080/"
        },
        "id": "E1kN9HXHUVBh",
        "outputId": "293c6358-0112-4e5f-bdb0-79f06fe76485"
      },
      "execution_count": null,
      "outputs": [
        {
          "output_type": "stream",
          "name": "stdout",
          "text": [
            "tensor([[1, 2, 3],\n",
            "        [3, 4, 5]])\n",
            "torch.Size([2, 3])\n",
            "2\n",
            "6\n"
          ]
        }
      ]
    },
    {
      "cell_type": "code",
      "source": [
        "print(torch.zeros(5))\n",
        "print(torch.zeros_like(A))\n",
        "print(torch.ones(5))\n",
        "print(torch.zeros(3,3))\n",
        "print(torch.arange(3,10,2)) # range랑 같은데 tensor로 만들어줌\n",
        "print(torch.arange(0,1,0.1)) # 소수점 가능\n",
        "print(torch.linspace(0,1,10)) # 0에서 1까지 10개로"
      ],
      "metadata": {
        "colab": {
          "base_uri": "https://localhost:8080/"
        },
        "id": "4WuWz0UYVKav",
        "outputId": "52c9305b-09d3-4a0c-871c-2076e1a6b89c"
      },
      "execution_count": null,
      "outputs": [
        {
          "output_type": "stream",
          "name": "stdout",
          "text": [
            "tensor([0., 0., 0., 0., 0.])\n",
            "tensor([[0, 0, 0],\n",
            "        [0, 0, 0]])\n",
            "tensor([1., 1., 1., 1., 1.])\n",
            "tensor([[0., 0., 0.],\n",
            "        [0., 0., 0.],\n",
            "        [0., 0., 0.]])\n",
            "tensor([3, 5, 7, 9])\n",
            "tensor([0.0000, 0.1000, 0.2000, 0.3000, 0.4000, 0.5000, 0.6000, 0.7000, 0.8000,\n",
            "        0.9000])\n",
            "tensor([0.0000, 0.1111, 0.2222, 0.3333, 0.4444, 0.5556, 0.6667, 0.7778, 0.8889,\n",
            "        1.0000])\n"
          ]
        }
      ]
    },
    {
      "cell_type": "code",
      "source": [
        "a = torch.tensor([1,2,3])\n",
        "b = torch.tensor([4,5,6])\n",
        "c = a+b\n",
        "\n",
        "print(c)"
      ],
      "metadata": {
        "colab": {
          "base_uri": "https://localhost:8080/"
        },
        "id": "6BnEZIfJV4WM",
        "outputId": "f5e03e62-b41c-4b76-c2e7-382870452a2b"
      },
      "execution_count": null,
      "outputs": [
        {
          "output_type": "stream",
          "name": "stdout",
          "text": [
            "tensor([5, 7, 9])\n"
          ]
        }
      ]
    },
    {
      "cell_type": "code",
      "source": [
        "A = torch.tensor([[1,2,3],[1,2,3]])\n",
        "B = torch.tensor([[4,5,6],[1,1,1]])\n",
        "C = A+B\n",
        "D = A-B\n",
        "\n",
        "print(C)\n",
        "print(D)\n",
        "print()\n",
        "print(A*B) # 성분끼리 곱 (dot product X)\n",
        "print(A/B) # 성분끼리 나누기\n",
        "print(B**2) # 성분마다 제곱"
      ],
      "metadata": {
        "colab": {
          "base_uri": "https://localhost:8080/"
        },
        "id": "ns9Y3z3XWH9h",
        "outputId": "8c4a41d4-7323-408f-8b10-7867d5d4026a"
      },
      "execution_count": null,
      "outputs": [
        {
          "output_type": "stream",
          "name": "stdout",
          "text": [
            "tensor([[5, 7, 9],\n",
            "        [2, 3, 4]])\n",
            "tensor([[-3, -3, -3],\n",
            "        [ 0,  1,  2]])\n",
            "\n",
            "tensor([[ 4, 10, 18],\n",
            "        [ 1,  2,  3]])\n",
            "tensor([[0.2500, 0.4000, 0.5000],\n",
            "        [1.0000, 2.0000, 3.0000]])\n",
            "tensor([[16, 25, 36],\n",
            "        [ 1,  1,  1]])\n"
          ]
        }
      ]
    },
    {
      "cell_type": "code",
      "source": [
        "A = torch.tensor([[1,2],[3,4]])\n",
        "B = torch.tensor([[1,2],[3,4]])\n",
        "\n",
        "print(A*B) # 성분끼리 곱\n",
        "print(A@B) # 행렬 내적 (dot product)"
      ],
      "metadata": {
        "colab": {
          "base_uri": "https://localhost:8080/"
        },
        "id": "07eoDz7oWo5X",
        "outputId": "92f21774-f924-4f64-c37c-e5d573d22ead"
      },
      "execution_count": null,
      "outputs": [
        {
          "output_type": "stream",
          "name": "stdout",
          "text": [
            "tensor([[ 1,  4],\n",
            "        [ 9, 16]])\n",
            "tensor([[ 7, 10],\n",
            "        [15, 22]])\n"
          ]
        }
      ]
    },
    {
      "cell_type": "markdown",
      "source": [
        "# 1.2. Pytorch indexing & slicing\n",
        "---"
      ],
      "metadata": {
        "id": "My26qSL7XPP9"
      }
    },
    {
      "cell_type": "code",
      "source": [
        "import torch"
      ],
      "metadata": {
        "id": "ca_WSwPMGJy1"
      },
      "execution_count": null,
      "outputs": []
    },
    {
      "cell_type": "code",
      "source": [
        "a = torch.tensor([1,2,3,4,5,6,7,8,9])\n",
        "print(a[0])\n",
        "print(a[1])\n",
        "print(a[-1])\n",
        "print(a[1:4])\n",
        "print(a[7:])\n",
        "print(a[:7])\n",
        "print(a[:])"
      ],
      "metadata": {
        "colab": {
          "base_uri": "https://localhost:8080/"
        },
        "id": "BvWO22_GXMJN",
        "outputId": "9a0e5995-28a7-47f3-96d1-743961995650"
      },
      "execution_count": null,
      "outputs": [
        {
          "output_type": "stream",
          "name": "stdout",
          "text": [
            "tensor(1)\n",
            "tensor(2)\n",
            "tensor(9)\n",
            "tensor([2, 3, 4])\n",
            "tensor([8, 9])\n",
            "tensor([1, 2, 3, 4, 5, 6, 7])\n",
            "tensor([1, 2, 3, 4, 5, 6, 7, 8, 9])\n"
          ]
        }
      ]
    },
    {
      "cell_type": "code",
      "source": [
        "# torch tensor\n",
        "A = torch.tensor([[1,2,3],[4,5,6],[7,8,9]])\n",
        "print(A[0]) # 하나만 쓰면 행에 대한 indexing\n",
        "print(A[-1])\n",
        "print(A[1:])\n",
        "print(A[:])\n",
        "print(A[0][2])\n",
        "print(A[0,2])\n",
        "\n",
        "# list\n",
        "B = [[1,2,3,4],[5,6,7,8]]\n",
        "print(B)\n",
        "print(B[0][2])\n",
        "#print(B[0,2]) # error\n",
        "\n",
        "print(A[1,:])\n",
        "print(A[1,0:3:2])\n",
        "print(A[:,2])\n",
        "print(A[:][2])"
      ],
      "metadata": {
        "colab": {
          "base_uri": "https://localhost:8080/"
        },
        "id": "ajrdSOK2YGZv",
        "outputId": "e312e76e-7f5c-47ae-e598-95a69a2de5b2"
      },
      "execution_count": null,
      "outputs": [
        {
          "output_type": "stream",
          "name": "stdout",
          "text": [
            "tensor([1, 2, 3])\n",
            "tensor([7, 8, 9])\n",
            "tensor([[4, 5, 6],\n",
            "        [7, 8, 9]])\n",
            "tensor([[1, 2, 3],\n",
            "        [4, 5, 6],\n",
            "        [7, 8, 9]])\n",
            "tensor(3)\n",
            "tensor(3)\n",
            "[[1, 2, 3, 4], [5, 6, 7, 8]]\n",
            "3\n",
            "tensor([4, 5, 6])\n",
            "tensor([4, 6])\n",
            "tensor([3, 6, 9])\n",
            "tensor([7, 8, 9])\n"
          ]
        }
      ]
    },
    {
      "cell_type": "code",
      "source": [
        "# 3-dim pytorch tensor\n",
        "A = torch.tensor([[[0,1,2,3],[4,5,6,7],[8,9,10,11]],\n",
        "                  [[12,13,14,15],[16,17,18,19],[20,21,22,23]]])\n",
        "\n",
        "print(A)\n",
        "print(A.shape)\n",
        "print(A[0,1,2])\n",
        "\n",
        "# a.ndim = 1\n",
        "a = torch.tensor([1,2,3,4])\n",
        "print(a.ndim)\n",
        "print(a.shape)\n",
        "\n",
        "# a.ndim = 2\n",
        "b = torch.tensor([[1,2,3,4]]) # 대괄호가 늘어나면 차원이 늘어남\n",
        "print(b.ndim)\n",
        "print(b.shape)"
      ],
      "metadata": {
        "colab": {
          "base_uri": "https://localhost:8080/"
        },
        "id": "1kBe0EhFZF4U",
        "outputId": "388ca959-e964-42e7-872c-fcfd2d40a4b1"
      },
      "execution_count": null,
      "outputs": [
        {
          "output_type": "stream",
          "name": "stdout",
          "text": [
            "tensor([[[ 0,  1,  2,  3],\n",
            "         [ 4,  5,  6,  7],\n",
            "         [ 8,  9, 10, 11]],\n",
            "\n",
            "        [[12, 13, 14, 15],\n",
            "         [16, 17, 18, 19],\n",
            "         [20, 21, 22, 23]]])\n",
            "torch.Size([2, 3, 4])\n",
            "tensor(6)\n",
            "1\n",
            "torch.Size([4])\n",
            "2\n",
            "torch.Size([1, 4])\n"
          ]
        }
      ]
    },
    {
      "cell_type": "code",
      "source": [
        "# list로 indexing\n",
        "print(A)\n",
        "A[[0,1,1,0],[0,1,2,1],[3,3,2,1]] # A[0,0,3], A[1,1,3], A[1,2,1], A[0,1,1] 출력"
      ],
      "metadata": {
        "colab": {
          "base_uri": "https://localhost:8080/"
        },
        "id": "r4LoiPX4a4Ov",
        "outputId": "316a2c9a-f588-4646-b290-0e1c205be1a4"
      },
      "execution_count": null,
      "outputs": [
        {
          "output_type": "stream",
          "name": "stdout",
          "text": [
            "tensor([[[ 0,  1,  2,  3],\n",
            "         [ 4,  5,  6,  7],\n",
            "         [ 8,  9, 10, 11]],\n",
            "\n",
            "        [[12, 13, 14, 15],\n",
            "         [16, 17, 18, 19],\n",
            "         [20, 21, 22, 23]]])\n"
          ]
        },
        {
          "output_type": "execute_result",
          "data": {
            "text/plain": [
              "tensor([ 3, 19, 22,  5])"
            ]
          },
          "metadata": {},
          "execution_count": 15
        }
      ]
    },
    {
      "cell_type": "code",
      "source": [
        "# Boolean indexing\n",
        "a = [1,2,3,4,5,3,3]\n",
        "print(a==3) # list는 단순히 integer과 비교하기에 False 출력\n",
        "\n",
        "A = torch.tensor([[1,2,3,4],[5,3,7,3]])\n",
        "print(A>3)\n",
        "print(A[A>3])\n",
        "\n",
        "A[A>3] = 100\n",
        "print(A)\n",
        "\n",
        "A = torch.tensor([[1,2],[3,4],[5,6],[7,8]])\n",
        "B = torch.tensor([True, False, False, True])\n",
        "print(A[B,:])\n",
        "\n",
        "b = torch.tensor([1,2,3,4])\n",
        "print(b[True, True, False, False])\n",
        "\n",
        "c = [1,2,3,4]\n",
        "#c[[True, True, False, False]] # error!"
      ],
      "metadata": {
        "colab": {
          "base_uri": "https://localhost:8080/"
        },
        "id": "fuIJIy7Lg_rl",
        "outputId": "6615520a-3d6a-4f98-e626-bfe875479f85"
      },
      "execution_count": null,
      "outputs": [
        {
          "output_type": "stream",
          "name": "stdout",
          "text": [
            "False\n",
            "tensor([[False, False, False,  True],\n",
            "        [ True, False,  True, False]])\n",
            "tensor([4, 5, 7])\n",
            "tensor([[  1,   2,   3, 100],\n",
            "        [100,   3, 100,   3]])\n",
            "tensor([[1, 2],\n",
            "        [7, 8]])\n",
            "tensor([], size=(0, 4), dtype=torch.int64)\n"
          ]
        }
      ]
    },
    {
      "cell_type": "code",
      "source": [
        "# tensor로 indexing\n",
        "a = torch.tensor([1,2,3,4,5])\n",
        "\n",
        "A = a[2]\n",
        "print(A)\n",
        "\n",
        "A = a[torch.tensor(2)]\n",
        "print(A)\n",
        "\n",
        "A = a[torch.tensor([2,3,4])]\n",
        "print(A)\n",
        "\n",
        "A = a[torch.tensor([[2,2,2],[3,3,3]])]\n",
        "print(A) # indexing한 것들로 2행 3열짜리 행렬을 만듦\n",
        "\n",
        "a = [1,2,3]\n",
        "# a[[1,1,1,1,2,2,2]] # error!\n",
        "\n",
        "a = torch.tensor([[1,2,3],[4,5,6]])\n",
        "print(a[torch.tensor(0)])\n",
        "\n",
        "A = a[torch.tensor([[0,1],[1,1]])]\n",
        "print(A.shape)\n",
        "print(A) # segmentation 결과 그림 보여줄 때 사용. 아래 cell 참조"
      ],
      "metadata": {
        "colab": {
          "base_uri": "https://localhost:8080/"
        },
        "id": "TbBTUcoLiNnm",
        "outputId": "5ec133ad-6064-4169-927a-a5594aba529c"
      },
      "execution_count": null,
      "outputs": [
        {
          "output_type": "stream",
          "name": "stdout",
          "text": [
            "tensor(3)\n",
            "tensor(3)\n",
            "tensor([3, 4, 5])\n",
            "tensor([[3, 3, 3],\n",
            "        [4, 4, 4]])\n",
            "tensor([1, 2, 3])\n",
            "torch.Size([2, 2, 3])\n",
            "tensor([[[1, 2, 3],\n",
            "         [4, 5, 6]],\n",
            "\n",
            "        [[4, 5, 6],\n",
            "         [4, 5, 6]]])\n"
          ]
        }
      ]
    },
    {
      "cell_type": "code",
      "source": [
        "# segmentation 사용 예시\n",
        "import matplotlib.pyplot as plt\n",
        "\n",
        "# segmentation tasks에서는 object의 영역을 object의 class마다 해당되는 색으로 표현\n",
        "# b의 성분은 segmentation으로 나눠진 영역 class의 색(R,G,B값)을 의미\n",
        "b = torch.tensor([[255,255,0],[0,255,0],[0,0,255],[255,0,255],[70,80,75],[0,0,4],[60,100,255]])\n",
        "\n",
        "# 각 class에 해당되는 색을 영역에 적용함 (class_1: yellow, class_2:green, ...)\n",
        "plt.imshow(b[torch.tensor([[0,1],[1,1]])])"
      ],
      "metadata": {
        "colab": {
          "base_uri": "https://localhost:8080/",
          "height": 452
        },
        "id": "gS196UaFkIrM",
        "outputId": "8a9230cd-5ac5-452f-9054-b503d7e63105"
      },
      "execution_count": null,
      "outputs": [
        {
          "output_type": "execute_result",
          "data": {
            "text/plain": [
              "<matplotlib.image.AxesImage at 0x7cf29221bf10>"
            ]
          },
          "metadata": {},
          "execution_count": 19
        },
        {
          "output_type": "display_data",
          "data": {
            "text/plain": [
              "<Figure size 640x480 with 1 Axes>"
            ],
            "image/png": "[encoded data removed]"
          },
          "metadata": {}
        }
      ]
    },
    {
      "cell_type": "code",
      "source": [
        "a = torch.tensor([[1,2,3],[4,5,6]])\n",
        "\n",
        "# tensor indexing\n",
        "A = a[torch.tensor([[0,1],[1,1]])]\n",
        "# list indexing\n",
        "B = a[[[[0,0,0],[1,1,1]],[[1,1,1],[1,1,1]]],[[[0,1,2],[0,1,2]],[[0,1,2],[0,1,2]]]]\n",
        "\n",
        "print(A)\n",
        "print(B)"
      ],
      "metadata": {
        "colab": {
          "base_uri": "https://localhost:8080/"
        },
        "id": "ypBXxttcl0oy",
        "outputId": "78954787-cee0-4407-fa2f-d364467137b6"
      },
      "execution_count": null,
      "outputs": [
        {
          "output_type": "stream",
          "name": "stdout",
          "text": [
            "tensor([[[1, 2, 3],\n",
            "         [4, 5, 6]],\n",
            "\n",
            "        [[4, 5, 6],\n",
            "         [4, 5, 6]]])\n",
            "tensor([[[1, 2, 3],\n",
            "         [4, 5, 6]],\n",
            "\n",
            "        [[4, 5, 6],\n",
            "         [4, 5, 6]]])\n"
          ]
        }
      ]
    },
    {
      "cell_type": "code",
      "source": [
        "A = torch.tensor([[1,2,6],[3,4,7],[5,6,2],[7,8,9]])\n",
        "print(A)\n",
        "print(A.shape)\n",
        "\n",
        "# 1. A[row,col]\n",
        "print(A[0,1])\n",
        "\n",
        "# 2-1. A[[row,col],[row,col]]: 2-dim list indexing\n",
        "print(A[[0,2,3,1,2],[1,1,0,0,0]])\n",
        "\n",
        "# 2-2. A[[[row,col],[row,col]],[[row,col],[row,col]]]: 3-dim list indexing\n",
        "print(A[[[0,2],[3,1]],[[0,2],[1,0]]])\n",
        "\n",
        "# 3. A[tensor(bool)]: A와 같은 shape을 가지는 tensor형 bool이 어디에 True를 가지고 있나\n",
        "print(A[torch.tensor([[False, True, True],[False, False, False],[False, False, True],[False, True, False]])])\n",
        "print(A[A==2]) # Attention의 Masking 가능\n",
        "\n",
        "# 4. A[True에 해당하는 row, True에 해당하는 col]: A.shape 형태에 맞게\n",
        "print(A[[True,False,False,False],[False,True,True]]) # row, col이 모두 True인 A[0,1], A[0,2]에 해당하는 값\n",
        "# 5. A[tensor]\n",
        "print(A[torch.tensor([1,1,2,2,2])])"
      ],
      "metadata": {
        "colab": {
          "base_uri": "https://localhost:8080/"
        },
        "id": "H72c74qzoK9l",
        "outputId": "01dc55dc-aed3-4905-e352-f1a6f9c80664"
      },
      "execution_count": null,
      "outputs": [
        {
          "output_type": "stream",
          "name": "stdout",
          "text": [
            "tensor([[1, 2, 6],\n",
            "        [3, 4, 7],\n",
            "        [5, 6, 2],\n",
            "        [7, 8, 9]])\n",
            "torch.Size([4, 3])\n",
            "tensor(2)\n",
            "tensor([2, 6, 7, 3, 5])\n",
            "tensor([[1, 2],\n",
            "        [8, 3]])\n",
            "tensor([2, 6, 2, 8])\n",
            "tensor([2, 2])\n",
            "tensor([2, 6])\n",
            "tensor([[3, 4, 7],\n",
            "        [3, 4, 7],\n",
            "        [5, 6, 2],\n",
            "        [5, 6, 2],\n",
            "        [5, 6, 2]])\n"
          ]
        }
      ]
    },
    {
      "cell_type": "markdown",
      "source": [
        "# 1.3. Pytorch Functions\n",
        "---"
      ],
      "metadata": {
        "id": "RfNAVWO4wx50"
      }
    },
    {
      "cell_type": "code",
      "source": [
        "import torch"
      ],
      "metadata": {
        "id": "1lAyDqWYGOAU"
      },
      "execution_count": 2,
      "outputs": []
    },
    {
      "cell_type": "code",
      "source": [
        "# random num sampling\n",
        "A = torch.randn(3,3) # rand+n(ormal): 표준 정규분포 - torch.randn(row,col)\n",
        "B = torch.rand(3,3) # uniform: (0,1) 범위 내 무작위 - torch.rand(row,col)\n",
        "\n",
        "print(A)\n",
        "print(B)"
      ],
      "metadata": {
        "colab": {
          "base_uri": "https://localhost:8080/"
        },
        "id": "Y8zz-qsZw1g1",
        "outputId": "f2463375-4e2c-4a37-dbbf-8e89bdc84619"
      },
      "execution_count": null,
      "outputs": [
        {
          "output_type": "stream",
          "name": "stdout",
          "text": [
            "tensor([[-2.2621, -0.2024, -0.8063],\n",
            "        [ 0.5810, -0.6336,  1.2397],\n",
            "        [-1.0351, -1.2709, -0.1153]])\n",
            "tensor([[0.3544, 0.3741, 0.1072],\n",
            "        [0.5028, 0.1052, 0.3145],\n",
            "        [0.9041, 0.1952, 0.3511]])\n"
          ]
        }
      ]
    },
    {
      "cell_type": "code",
      "source": [
        "# basic math functions\n",
        "A = torch.randn(3,3)\n",
        "\n",
        "print(A)\n",
        "print(torch.abs(A))\n",
        "print(torch.sqrt(torch.abs(A)))\n",
        "print(torch.exp(A))\n",
        "print(torch.log(torch.exp(A)))\n",
        "print(torch.log(torch.exp(torch.tensor(1)))) # torch.exp(torch.tensor(1)) = e^1\n",
        "print(torch.log10(torch.tensor(10)))\n",
        "print(torch.log2(torch.tensor(2)))\n",
        "print(torch.round(A))\n",
        "print(torch.round(A,decimals=2))\n",
        "print(torch.floor(A))\n",
        "print(torch.ceil(A))"
      ],
      "metadata": {
        "colab": {
          "base_uri": "https://localhost:8080/"
        },
        "id": "LJP8VRDnxudl",
        "outputId": "6ec0ae1c-05ae-4132-e117-79285957c57c"
      },
      "execution_count": null,
      "outputs": [
        {
          "output_type": "stream",
          "name": "stdout",
          "text": [
            "tensor([[-0.3883, -0.3947, -0.1994],\n",
            "        [ 1.3429,  0.7110,  0.6556],\n",
            "        [-0.0939, -0.4787,  0.5682]])\n",
            "tensor([[0.3883, 0.3947, 0.1994],\n",
            "        [1.3429, 0.7110, 0.6556],\n",
            "        [0.0939, 0.4787, 0.5682]])\n",
            "tensor([[0.6231, 0.6283, 0.4465],\n",
            "        [1.1588, 0.8432, 0.8097],\n",
            "        [0.3064, 0.6919, 0.7538]])\n",
            "tensor([[0.6782, 0.6739, 0.8193],\n",
            "        [3.8300, 2.0361, 1.9263],\n",
            "        [0.9104, 0.6196, 1.7651]])\n",
            "tensor([[-0.3883, -0.3947, -0.1994],\n",
            "        [ 1.3429,  0.7110,  0.6556],\n",
            "        [-0.0939, -0.4787,  0.5682]])\n",
            "tensor(1.)\n",
            "tensor(1.)\n",
            "tensor(1.)\n",
            "tensor([[-0., -0., -0.],\n",
            "        [1., 1., 1.],\n",
            "        [-0., -0., 1.]])\n",
            "tensor([[-0.3900, -0.3900, -0.2000],\n",
            "        [ 1.3400,  0.7100,  0.6600],\n",
            "        [-0.0900, -0.4800,  0.5700]])\n",
            "tensor([[-1., -1., -1.],\n",
            "        [ 1.,  0.,  0.],\n",
            "        [-1., -1.,  0.]])\n",
            "tensor([[-0., -0., -0.],\n",
            "        [2., 1., 1.],\n",
            "        [-0., -0., 1.]])\n"
          ]
        }
      ]
    },
    {
      "cell_type": "code",
      "source": [
        "print(torch.sin(torch.tensor(torch.pi/6))) # type(torch.pi)는 float이지만 tensor와 연산 시 tensor로 자동 변환\n",
        "print(torch.cos(torch.tensor(torch.pi/3)))\n",
        "print(torch.tan(torch.tensor(torch.pi/4)))\n",
        "print(torch.tanh(torch.tensor(-10)))\n",
        "\n",
        "type(torch.tensor(1)/6)"
      ],
      "metadata": {
        "colab": {
          "base_uri": "https://localhost:8080/"
        },
        "id": "E5YQp_DcydkK",
        "outputId": "bba94cb1-5c17-4626-926a-3e197e15c723"
      },
      "execution_count": null,
      "outputs": [
        {
          "output_type": "stream",
          "name": "stdout",
          "text": [
            "tensor(0.5000)\n",
            "tensor(0.5000)\n",
            "tensor(1.)\n",
            "tensor(-1.)\n"
          ]
        },
        {
          "output_type": "execute_result",
          "data": {
            "text/plain": [
              "torch.Tensor"
            ]
          },
          "metadata": {},
          "execution_count": 35
        }
      ]
    },
    {
      "cell_type": "code",
      "source": [
        "torch.nan # not a number\n",
        "print(torch.log(torch.tensor(-1)))\n",
        "print(torch.isnan(torch.tensor([1,2,torch.nan,3,4])))\n",
        "print(torch.isinf(torch.tensor([1,2,3,4,torch.inf])))"
      ],
      "metadata": {
        "colab": {
          "base_uri": "https://localhost:8080/"
        },
        "id": "Dh3jNb2dzKSa",
        "outputId": "561747c0-3548-41fc-ac32-744bf3738435"
      },
      "execution_count": null,
      "outputs": [
        {
          "output_type": "stream",
          "name": "stdout",
          "text": [
            "tensor(nan)\n",
            "tensor([False, False,  True, False, False])\n",
            "tensor([False, False, False, False,  True])\n"
          ]
        }
      ]
    },
    {
      "cell_type": "code",
      "source": [
        "A = torch.randn(3,4)\n",
        "\n",
        "print(A)\n",
        "print(torch.max(A))\n",
        "print(torch.max(A,dim=0))\n",
        "print(torch.max(A,dim=1)) # 1-dim tensor로 변환시킴\n",
        "print(torch.max(A,dim=0, keepdims=True))\n",
        "print(torch.max(A,dim=1, keepdims=True)) # 3row, 1col의 2-dim tensor\n",
        "print(torch.min(A))\n",
        "print(torch.min(A,dim=0))\n",
        "print(torch.min(A,dim=1))\n",
        "print(torch.argmax(A))\n",
        "print(torch.argmax(A,dim=0)) # 각 col에서 가장 큰 값이 있는 index\n",
        "print(torch.argmax(A,dim=1)) # 각 row에서 가장 큰 값이 있는 index"
      ],
      "metadata": {
        "colab": {
          "base_uri": "https://localhost:8080/"
        },
        "id": "h8d76b-4zs8L",
        "outputId": "693df50f-64d8-4928-8a95-d5cd51673c15"
      },
      "execution_count": null,
      "outputs": [
        {
          "output_type": "stream",
          "name": "stdout",
          "text": [
            "tensor([[-0.1955, -1.5806,  1.1212, -1.1628],\n",
            "        [-0.7790,  0.2391,  1.8904,  3.3030],\n",
            "        [ 0.7479, -0.3467,  1.6369,  1.4048]])\n",
            "tensor(3.3030)\n",
            "torch.return_types.max(\n",
            "values=tensor([0.7479, 0.2391, 1.8904, 3.3030]),\n",
            "indices=tensor([2, 1, 1, 1]))\n",
            "torch.return_types.max(\n",
            "values=tensor([1.1212, 3.3030, 1.6369]),\n",
            "indices=tensor([2, 3, 2]))\n",
            "torch.return_types.max(\n",
            "values=tensor([[0.7479, 0.2391, 1.8904, 3.3030]]),\n",
            "indices=tensor([[2, 1, 1, 1]]))\n",
            "torch.return_types.max(\n",
            "values=tensor([[1.1212],\n",
            "        [3.3030],\n",
            "        [1.6369]]),\n",
            "indices=tensor([[2],\n",
            "        [3],\n",
            "        [2]]))\n",
            "tensor(-1.5806)\n",
            "torch.return_types.min(\n",
            "values=tensor([-0.7790, -1.5806,  1.1212, -1.1628]),\n",
            "indices=tensor([1, 0, 0, 0]))\n",
            "torch.return_types.min(\n",
            "values=tensor([-1.5806, -0.7790, -0.3467]),\n",
            "indices=tensor([1, 0, 1]))\n",
            "tensor(7)\n",
            "tensor([2, 1, 1, 1])\n",
            "tensor([2, 3, 2])\n"
          ]
        }
      ]
    },
    {
      "cell_type": "code",
      "source": [
        "a = torch.randn(6,1)\n",
        "print(a)\n",
        "a_sorted = torch.sort(a,dim=0)\n",
        "print(a_sorted)\n",
        "\n",
        "a = torch.randn(6,1)\n",
        "print(a)\n",
        "print(a.sort(dim=0))\n",
        "print(a.sort(dim=0, descending=True))\n",
        "\n",
        "print(torch.max(a))\n",
        "print(a.max())\n",
        "print(torch.min(a))\n",
        "print(a.min())"
      ],
      "metadata": {
        "colab": {
          "base_uri": "https://localhost:8080/"
        },
        "id": "pHodjaEm0yVU",
        "outputId": "5540efc8-de7e-4282-9cfd-8a95fa99d8ec"
      },
      "execution_count": null,
      "outputs": [
        {
          "output_type": "stream",
          "name": "stdout",
          "text": [
            "tensor([[ 0.3605],\n",
            "        [ 0.0260],\n",
            "        [-0.8627],\n",
            "        [-0.3930],\n",
            "        [ 0.2075],\n",
            "        [ 1.1596]])\n",
            "torch.return_types.sort(\n",
            "values=tensor([[-0.8627],\n",
            "        [-0.3930],\n",
            "        [ 0.0260],\n",
            "        [ 0.2075],\n",
            "        [ 0.3605],\n",
            "        [ 1.1596]]),\n",
            "indices=tensor([[2],\n",
            "        [3],\n",
            "        [1],\n",
            "        [4],\n",
            "        [0],\n",
            "        [5]]))\n",
            "tensor([[ 1.3893],\n",
            "        [ 1.3500],\n",
            "        [ 1.5965],\n",
            "        [ 0.3112],\n",
            "        [ 0.8244],\n",
            "        [-0.5955]])\n",
            "torch.return_types.sort(\n",
            "values=tensor([[-0.5955],\n",
            "        [ 0.3112],\n",
            "        [ 0.8244],\n",
            "        [ 1.3500],\n",
            "        [ 1.3893],\n",
            "        [ 1.5965]]),\n",
            "indices=tensor([[5],\n",
            "        [3],\n",
            "        [4],\n",
            "        [1],\n",
            "        [0],\n",
            "        [2]]))\n",
            "torch.return_types.sort(\n",
            "values=tensor([[ 1.5965],\n",
            "        [ 1.3893],\n",
            "        [ 1.3500],\n",
            "        [ 0.8244],\n",
            "        [ 0.3112],\n",
            "        [-0.5955]]),\n",
            "indices=tensor([[2],\n",
            "        [0],\n",
            "        [1],\n",
            "        [4],\n",
            "        [3],\n",
            "        [5]]))\n",
            "tensor(1.5965)\n",
            "tensor(1.5965)\n",
            "tensor(-0.5955)\n",
            "tensor(-0.5955)\n"
          ]
        }
      ]
    },
    {
      "cell_type": "code",
      "source": [
        "A = torch.randn(3,4)\n",
        "\n",
        "print(A)\n",
        "print(torch.sum(A))\n",
        "print(torch.sum(A,dim=1))\n",
        "print(torch.sum(A,dim=1,keepdims=True))\n",
        "print(torch.mean(A))\n",
        "print(torch.mean(A,dim=1))\n",
        "print(torch.mean(A,dim=1,keepdims=True))\n",
        "print(torch.std(A))\n",
        "\n",
        "print(A.sum(dim=1, keepdims=True))\n",
        "print(A.mean(dim=1, keepdims=True))\n",
        "print(A.std())"
      ],
      "metadata": {
        "colab": {
          "base_uri": "https://localhost:8080/"
        },
        "id": "1pZHsGBd2XdI",
        "outputId": "d545b593-cdfa-45b4-f2ce-cbb563f47892"
      },
      "execution_count": null,
      "outputs": [
        {
          "output_type": "stream",
          "name": "stdout",
          "text": [
            "tensor([[ 0.2213, -0.7689,  0.5296, -0.0342],\n",
            "        [ 0.5535, -0.5983, -0.8709,  0.6574],\n",
            "        [-1.4764,  0.4822,  0.5808,  0.4081]])\n",
            "tensor(-0.3159)\n",
            "tensor([-0.0523, -0.2583, -0.0053])\n",
            "tensor([[-0.0523],\n",
            "        [-0.2583],\n",
            "        [-0.0053]])\n",
            "tensor(-0.0263)\n",
            "tensor([-0.0131, -0.0646, -0.0013])\n",
            "tensor([[-0.0131],\n",
            "        [-0.0646],\n",
            "        [-0.0013]])\n",
            "tensor(0.7189)\n",
            "tensor([[-0.0523],\n",
            "        [-0.2583],\n",
            "        [-0.0053]])\n",
            "tensor([[-0.0131],\n",
            "        [-0.0646],\n",
            "        [-0.0013]])\n",
            "tensor(0.7189)\n"
          ]
        }
      ]
    },
    {
      "cell_type": "code",
      "source": [
        "A = torch.randint(1,5,size=(12,))\n",
        "print(A)\n",
        "print(A.shape)\n",
        "\n",
        "B = A.reshape(2,2,3)\n",
        "print(B)\n",
        "print(B.shape)"
      ],
      "metadata": {
        "id": "I6KUhkc13BZj",
        "colab": {
          "base_uri": "https://localhost:8080/"
        },
        "outputId": "c77e4aae-b67d-485b-94b0-0f07cc3a04a7"
      },
      "execution_count": 3,
      "outputs": [
        {
          "output_type": "stream",
          "name": "stdout",
          "text": [
            "tensor([1, 4, 1, 2, 4, 4, 2, 4, 4, 2, 1, 4])\n",
            "torch.Size([12])\n",
            "tensor([[[1, 4, 1],\n",
            "         [2, 4, 4]],\n",
            "\n",
            "        [[2, 4, 4],\n",
            "         [2, 1, 4]]])\n",
            "torch.Size([2, 2, 3])\n"
          ]
        }
      ]
    },
    {
      "cell_type": "code",
      "source": [
        "A = torch.arange(20,)\n",
        "\n",
        "print(A)\n",
        "print(A.reshape(4,5))\n",
        "print(A.reshape(4,-1).shape)\n",
        "print(A.reshape(2,5,-1).shape)\n",
        "print(A.reshape(2,-1,5).shape)\n",
        "print(A.reshape(1,-1).shape)\n",
        "print(A.reshape(-1,1).shape)"
      ],
      "metadata": {
        "colab": {
          "base_uri": "https://localhost:8080/"
        },
        "id": "mw5yImBXGFoB",
        "outputId": "e0d10d63-9f2c-48a1-d90b-ecdebc98b828"
      },
      "execution_count": 4,
      "outputs": [
        {
          "output_type": "stream",
          "name": "stdout",
          "text": [
            "tensor([ 0,  1,  2,  3,  4,  5,  6,  7,  8,  9, 10, 11, 12, 13, 14, 15, 16, 17,\n",
            "        18, 19])\n",
            "tensor([[ 0,  1,  2,  3,  4],\n",
            "        [ 5,  6,  7,  8,  9],\n",
            "        [10, 11, 12, 13, 14],\n",
            "        [15, 16, 17, 18, 19]])\n",
            "torch.Size([4, 5])\n",
            "torch.Size([2, 5, 2])\n",
            "torch.Size([2, 2, 5])\n",
            "torch.Size([1, 20])\n",
            "torch.Size([20, 1])\n"
          ]
        }
      ]
    },
    {
      "cell_type": "code",
      "source": [
        "a = torch.tensor([1,2,3])\n",
        "b = torch.tensor([2,2,1])\n",
        "print(torch.sum(a*b))\n",
        "\n",
        "a = a.reshape(3,1)\n",
        "b = b.reshape(3,1)\n",
        "print(a.transpose(1,0)@b)\n",
        "print(a.permute(1,0)@b)\n",
        "print(a.T@b)\n",
        "print(a.t()@b)\n",
        "\n",
        "A = torch.randn(4,3,6)\n",
        "print(A.permute(0,2,1).shape)\n",
        "print(A.transpose(2,1).shape) # transpose는 두개 서로 자리 바꾸기만 가능"
      ],
      "metadata": {
        "colab": {
          "base_uri": "https://localhost:8080/"
        },
        "id": "lb7Ii-I2GveP",
        "outputId": "f5b36dfd-079e-47b4-a8bd-26e902c99d67"
      },
      "execution_count": 5,
      "outputs": [
        {
          "output_type": "stream",
          "name": "stdout",
          "text": [
            "tensor(9)\n",
            "tensor([[9]])\n",
            "tensor([[9]])\n",
            "tensor([[9]])\n",
            "tensor([[9]])\n",
            "torch.Size([4, 6, 3])\n",
            "torch.Size([4, 6, 3])\n"
          ]
        }
      ]
    },
    {
      "cell_type": "code",
      "source": [
        "x = torch.randn(2,3,4,5,6)\n",
        "\n",
        "print(x[1,2,:,:,:].shape)\n",
        "print(x[1,2,...].shape)\n",
        "print(x[:,:,:,:,3].shape)\n",
        "print(x[...,3].shape)\n",
        "print(x[1,:,:,3,:].shape)\n",
        "print(x[1,...,3,:].shape)"
      ],
      "metadata": {
        "colab": {
          "base_uri": "https://localhost:8080/"
        },
        "id": "Wbqyt0L5HRz2",
        "outputId": "44a503bb-b497-424b-cb16-5c544923afe8"
      },
      "execution_count": 7,
      "outputs": [
        {
          "output_type": "stream",
          "name": "stdout",
          "text": [
            "torch.Size([4, 5, 6])\n",
            "torch.Size([4, 5, 6])\n",
            "torch.Size([2, 3, 4, 5])\n",
            "torch.Size([2, 3, 4, 5])\n",
            "torch.Size([3, 4, 6])\n",
            "torch.Size([3, 4, 6])\n"
          ]
        }
      ]
    },
    {
      "cell_type": "code",
      "source": [
        "A = torch.ones(3,4)\n",
        "B = torch.zeros(3,4)\n",
        "\n",
        "# 2-dim matrix일 때 사용하면 좋지만, 그 이상의 차원에서는 cat을 사용하는 것이 편리함\n",
        "C = torch.vstack([A,B]) # vertical: 수직으로,세로로(0번째 차원)\n",
        "D = torch.hstack([A,B]) # horizontal: 수평으로,가로로(1번째 차원)\n",
        "\n",
        "E = torch.cat([A,B],dim=0)\n",
        "F = torch.cat([A,B],dim=1)\n",
        "\n",
        "print(C)\n",
        "print(D)\n",
        "print(E)\n",
        "print(F)"
      ],
      "metadata": {
        "colab": {
          "base_uri": "https://localhost:8080/"
        },
        "id": "ohfm2TSGID0x",
        "outputId": "a84f89a3-2a76-4cbc-d12a-28f5561564f8"
      },
      "execution_count": 10,
      "outputs": [
        {
          "output_type": "stream",
          "name": "stdout",
          "text": [
            "tensor([[1., 1., 1., 1.],\n",
            "        [1., 1., 1., 1.],\n",
            "        [1., 1., 1., 1.],\n",
            "        [0., 0., 0., 0.],\n",
            "        [0., 0., 0., 0.],\n",
            "        [0., 0., 0., 0.]])\n",
            "tensor([[1., 1., 1., 1., 0., 0., 0., 0.],\n",
            "        [1., 1., 1., 1., 0., 0., 0., 0.],\n",
            "        [1., 1., 1., 1., 0., 0., 0., 0.]])\n",
            "tensor([[1., 1., 1., 1.],\n",
            "        [1., 1., 1., 1.],\n",
            "        [1., 1., 1., 1.],\n",
            "        [0., 0., 0., 0.],\n",
            "        [0., 0., 0., 0.],\n",
            "        [0., 0., 0., 0.]])\n",
            "tensor([[1., 1., 1., 1., 0., 0., 0., 0.],\n",
            "        [1., 1., 1., 1., 0., 0., 0., 0.],\n",
            "        [1., 1., 1., 1., 0., 0., 0., 0.]])\n"
          ]
        }
      ]
    },
    {
      "cell_type": "code",
      "source": [
        "A = torch.randn(1,1,1,3,1,1,1,1,4,1,1,1,1)\n",
        "\n",
        "# print(A)\n",
        "print(A.shape)\n",
        "print(A.squeeze().shape)\n",
        "print(A.squeeze(dim=(0,2,4,5)).shape)"
      ],
      "metadata": {
        "colab": {
          "base_uri": "https://localhost:8080/"
        },
        "id": "M43sB6atIYVa",
        "outputId": "0bf24229-04b4-4dc8-8f53-f78bd9493abd"
      },
      "execution_count": 11,
      "outputs": [
        {
          "output_type": "stream",
          "name": "stdout",
          "text": [
            "torch.Size([1, 1, 1, 3, 1, 1, 1, 1, 4, 1, 1, 1, 1])\n",
            "torch.Size([3, 4])\n",
            "torch.Size([1, 3, 1, 1, 4, 1, 1, 1, 1])\n"
          ]
        }
      ]
    },
    {
      "cell_type": "code",
      "source": [
        "A = torch.randn(3,4)\n",
        "\n",
        "print(A.unsqueeze(dim=0).shape)\n",
        "print(A.unsqueeze(dim=1).shape)\n",
        "print(A.unsqueeze(dim=2).shape)\n",
        "print(A.reshape(1,3,4).shape)\n",
        "print(A.reshape(3,1,4).shape)\n",
        "print(A.reshape(3,4,1).shape)"
      ],
      "metadata": {
        "colab": {
          "base_uri": "https://localhost:8080/"
        },
        "id": "oJvnhk9fJh_1",
        "outputId": "12135c06-7933-4559-db3a-5d0874930dc0"
      },
      "execution_count": 12,
      "outputs": [
        {
          "output_type": "stream",
          "name": "stdout",
          "text": [
            "torch.Size([1, 3, 4])\n",
            "torch.Size([3, 1, 4])\n",
            "torch.Size([3, 4, 1])\n",
            "torch.Size([1, 3, 4])\n",
            "torch.Size([3, 1, 4])\n",
            "torch.Size([3, 4, 1])\n"
          ]
        }
      ]
    },
    {
      "cell_type": "code",
      "source": [
        "# unsqueeze 사용처\n",
        "A = torch.ones(3,4)\n",
        "B = torch.zeros(3,4)\n",
        "\n",
        "A = A.unsqueeze(dim=0)\n",
        "B = B.unsqueeze(dim=0)\n",
        "C = torch.cat([A,B],dim=0)\n",
        "\n",
        "print(C)\n",
        "print(C.shape)"
      ],
      "metadata": {
        "colab": {
          "base_uri": "https://localhost:8080/"
        },
        "id": "agOzQLC0J1ke",
        "outputId": "1e3da288-4a87-4762-e969-0670fd226e4c"
      },
      "execution_count": 13,
      "outputs": [
        {
          "output_type": "stream",
          "name": "stdout",
          "text": [
            "tensor([[[1., 1., 1., 1.],\n",
            "         [1., 1., 1., 1.],\n",
            "         [1., 1., 1., 1.]],\n",
            "\n",
            "        [[0., 0., 0., 0.],\n",
            "         [0., 0., 0., 0.],\n",
            "         [0., 0., 0., 0.]]])\n",
            "torch.Size([2, 3, 4])\n"
          ]
        }
      ]
    },
    {
      "cell_type": "code",
      "source": [
        "A = torch.ones(3,4)\n",
        "B = torch.zeros(3,4)\n",
        "C = torch.stack([A,B])\n",
        "\n",
        "print(C) # unsqueeze 없이 stack으로 할 수 있음. 하지만 A,B의 shape이 일치해야 함"
      ],
      "metadata": {
        "colab": {
          "base_uri": "https://localhost:8080/"
        },
        "id": "iGJAvUTvKLXg",
        "outputId": "1c85406a-9231-42b2-b9bf-72a036bf4875"
      },
      "execution_count": 14,
      "outputs": [
        {
          "output_type": "stream",
          "name": "stdout",
          "text": [
            "tensor([[[1., 1., 1., 1.],\n",
            "         [1., 1., 1., 1.],\n",
            "         [1., 1., 1., 1.]],\n",
            "\n",
            "        [[0., 0., 0., 0.],\n",
            "         [0., 0., 0., 0.],\n",
            "         [0., 0., 0., 0.]]])\n"
          ]
        }
      ]
    },
    {
      "cell_type": "code",
      "source": [
        "A = torch.tensor([[1,2],[3,4]])\n",
        "B = A # 주소 전달\n",
        "B[0,0] = 100 # -> 같이 변경\n",
        "\n",
        "print(A)\n",
        "print(B)"
      ],
      "metadata": {
        "colab": {
          "base_uri": "https://localhost:8080/"
        },
        "id": "wiSXBAdyKtxb",
        "outputId": "b8986842-b5e5-42c1-afd3-73e76a190c19"
      },
      "execution_count": 15,
      "outputs": [
        {
          "output_type": "stream",
          "name": "stdout",
          "text": [
            "tensor([[100,   2],\n",
            "        [  3,   4]])\n",
            "tensor([[100,   2],\n",
            "        [  3,   4]])\n"
          ]
        }
      ]
    },
    {
      "cell_type": "code",
      "source": [
        "A = torch.tensor([[1,2],[3,4]])\n",
        "B = A.clone() # 객체 생성\n",
        "B[0,0] = 100 # B만 변경\n",
        "\n",
        "print(A)\n",
        "print(B)"
      ],
      "metadata": {
        "colab": {
          "base_uri": "https://localhost:8080/"
        },
        "id": "kUhhEjK_LAr7",
        "outputId": "e85236c3-18e7-4b1c-e635-21bc8dadd3d3"
      },
      "execution_count": 17,
      "outputs": [
        {
          "output_type": "stream",
          "name": "stdout",
          "text": [
            "tensor([[1, 2],\n",
            "        [3, 4]])\n",
            "tensor([[100,   2],\n",
            "        [  3,   4]])\n"
          ]
        }
      ]
    },
    {
      "cell_type": "markdown",
      "source": [
        "## @ 사용방법"
      ],
      "metadata": {
        "id": "wzx9qIXRM1mJ"
      }
    },
    {
      "cell_type": "code",
      "source": [
        "A = torch.randn(5,7)\n",
        "B = torch.randn(7,10)\n",
        "C = A@B\n",
        "print(C.shape)\n",
        "\n",
        "A = torch.randn(32,5,7)\n",
        "B = torch.randn(32,7,10)\n",
        "C = A@B\n",
        "print(C.shape)"
      ],
      "metadata": {
        "colab": {
          "base_uri": "https://localhost:8080/"
        },
        "id": "KCuRj1iILODA",
        "outputId": "66e62a80-cf50-4f56-e001-9ceacf44c56a"
      },
      "execution_count": 18,
      "outputs": [
        {
          "output_type": "stream",
          "name": "stdout",
          "text": [
            "torch.Size([5, 10])\n",
            "torch.Size([32, 5, 10])\n"
          ]
        }
      ]
    },
    {
      "cell_type": "code",
      "source": [
        "A = torch.randn(32,5,7)\n",
        "B = torch.randn(7,10)\n",
        "C = A@B\n",
        "\n",
        "print(C.shape)"
      ],
      "metadata": {
        "colab": {
          "base_uri": "https://localhost:8080/"
        },
        "id": "MJKQb00hLkdz",
        "outputId": "1a36c46d-38d0-4381-d2ee-45ee514ee5b4"
      },
      "execution_count": 19,
      "outputs": [
        {
          "output_type": "stream",
          "name": "stdout",
          "text": [
            "torch.Size([32, 5, 10])\n"
          ]
        }
      ]
    },
    {
      "cell_type": "code",
      "source": [
        "# +)\n",
        "D = A@B.repeat(32,1,1)\n",
        "print(D.shape)\n",
        "print((C-D).abs().max())"
      ],
      "metadata": {
        "colab": {
          "base_uri": "https://localhost:8080/"
        },
        "id": "bdJzmQiJL3aB",
        "outputId": "a3203f76-1fb4-437e-995a-eec8d1b129f7"
      },
      "execution_count": 20,
      "outputs": [
        {
          "output_type": "stream",
          "name": "stdout",
          "text": [
            "torch.Size([32, 5, 10])\n",
            "tensor(9.5367e-07)\n"
          ]
        }
      ]
    },
    {
      "cell_type": "code",
      "source": [
        "# +)\n",
        "A = torch.rand(2,3)\n",
        "A_repeat = A.repeat(3,1,3,2)\n",
        "\n",
        "print(A)\n",
        "print(A_repeat)\n",
        "print(A_repeat.shape)"
      ],
      "metadata": {
        "colab": {
          "base_uri": "https://localhost:8080/"
        },
        "id": "iTpzPVQDMHg8",
        "outputId": "f0d5b98f-c760-4848-91db-6d9605693953"
      },
      "execution_count": 21,
      "outputs": [
        {
          "output_type": "stream",
          "name": "stdout",
          "text": [
            "tensor([[4.3864e-01, 9.5865e-01, 3.4560e-01],\n",
            "        [6.8384e-01, 3.9255e-01, 4.7618e-04]])\n",
            "tensor([[[[4.3864e-01, 9.5865e-01, 3.4560e-01, 4.3864e-01, 9.5865e-01,\n",
            "           3.4560e-01],\n",
            "          [6.8384e-01, 3.9255e-01, 4.7618e-04, 6.8384e-01, 3.9255e-01,\n",
            "           4.7618e-04],\n",
            "          [4.3864e-01, 9.5865e-01, 3.4560e-01, 4.3864e-01, 9.5865e-01,\n",
            "           3.4560e-01],\n",
            "          [6.8384e-01, 3.9255e-01, 4.7618e-04, 6.8384e-01, 3.9255e-01,\n",
            "           4.7618e-04],\n",
            "          [4.3864e-01, 9.5865e-01, 3.4560e-01, 4.3864e-01, 9.5865e-01,\n",
            "           3.4560e-01],\n",
            "          [6.8384e-01, 3.9255e-01, 4.7618e-04, 6.8384e-01, 3.9255e-01,\n",
            "           4.7618e-04]]],\n",
            "\n",
            "\n",
            "        [[[4.3864e-01, 9.5865e-01, 3.4560e-01, 4.3864e-01, 9.5865e-01,\n",
            "           3.4560e-01],\n",
            "          [6.8384e-01, 3.9255e-01, 4.7618e-04, 6.8384e-01, 3.9255e-01,\n",
            "           4.7618e-04],\n",
            "          [4.3864e-01, 9.5865e-01, 3.4560e-01, 4.3864e-01, 9.5865e-01,\n",
            "           3.4560e-01],\n",
            "          [6.8384e-01, 3.9255e-01, 4.7618e-04, 6.8384e-01, 3.9255e-01,\n",
            "           4.7618e-04],\n",
            "          [4.3864e-01, 9.5865e-01, 3.4560e-01, 4.3864e-01, 9.5865e-01,\n",
            "           3.4560e-01],\n",
            "          [6.8384e-01, 3.9255e-01, 4.7618e-04, 6.8384e-01, 3.9255e-01,\n",
            "           4.7618e-04]]],\n",
            "\n",
            "\n",
            "        [[[4.3864e-01, 9.5865e-01, 3.4560e-01, 4.3864e-01, 9.5865e-01,\n",
            "           3.4560e-01],\n",
            "          [6.8384e-01, 3.9255e-01, 4.7618e-04, 6.8384e-01, 3.9255e-01,\n",
            "           4.7618e-04],\n",
            "          [4.3864e-01, 9.5865e-01, 3.4560e-01, 4.3864e-01, 9.5865e-01,\n",
            "           3.4560e-01],\n",
            "          [6.8384e-01, 3.9255e-01, 4.7618e-04, 6.8384e-01, 3.9255e-01,\n",
            "           4.7618e-04],\n",
            "          [4.3864e-01, 9.5865e-01, 3.4560e-01, 4.3864e-01, 9.5865e-01,\n",
            "           3.4560e-01],\n",
            "          [6.8384e-01, 3.9255e-01, 4.7618e-04, 6.8384e-01, 3.9255e-01,\n",
            "           4.7618e-04]]]])\n",
            "torch.Size([3, 1, 6, 6])\n"
          ]
        }
      ]
    },
    {
      "cell_type": "markdown",
      "source": [
        "## Numpy, Torch 호환"
      ],
      "metadata": {
        "id": "UdDg7UzbM8cc"
      }
    },
    {
      "cell_type": "code",
      "source": [
        "import numpy as np\n",
        "import torch\n",
        "\n",
        "a = np.array([1,2,3])\n",
        "b = torch.tensor([1,2,3])\n",
        "\n",
        "A = torch.tensor(a) # A = torch.from_numpy(a)\n",
        "print(type(A))\n",
        "\n",
        "B = b.numpy() # B = np.array(b)\n",
        "print(type(B))"
      ],
      "metadata": {
        "colab": {
          "base_uri": "https://localhost:8080/"
        },
        "id": "R_crCJUwMllD",
        "outputId": "0201a39b-6a01-43a2-958a-6803152d86ef"
      },
      "execution_count": 22,
      "outputs": [
        {
          "output_type": "stream",
          "name": "stdout",
          "text": [
            "<class 'torch.Tensor'>\n",
            "<class 'numpy.ndarray'>\n"
          ]
        }
      ]
    },
    {
      "cell_type": "markdown",
      "source": [
        "# 2. Pytorch autograd\n",
        "---"
      ],
      "metadata": {
        "id": "RPROV-VFNxNP"
      }
    },
    {
      "cell_type": "markdown",
      "source": [
        "requires_grad\\\n",
        ": gradient를 요구하는 변수인지 선언하는 파라미터\n",
        "- default = `False`\n",
        "- `False`로 설정하면 미분 불가 (`.backward()` 함수 사용 불가)"
      ],
      "metadata": {
        "id": "rAp5et7EP7Lf"
      }
    },
    {
      "cell_type": "code",
      "source": [
        "import torch"
      ],
      "metadata": {
        "id": "KJJdLGnG4itD"
      },
      "execution_count": 1,
      "outputs": []
    },
    {
      "cell_type": "code",
      "source": [
        "x = torch.tensor([1.],requires_grad=True) # type이 float이어야 해서 1.\n",
        "print(x)"
      ],
      "metadata": {
        "colab": {
          "base_uri": "https://localhost:8080/"
        },
        "id": "Kjp0F-ysNaI_",
        "outputId": "9ec726f0-80e3-42ac-d5f4-c1dc5f6d0bb6"
      },
      "execution_count": 23,
      "outputs": [
        {
          "output_type": "stream",
          "name": "stdout",
          "text": [
            "tensor([1.], requires_grad=True)\n"
          ]
        }
      ]
    },
    {
      "cell_type": "code",
      "source": [
        "x = torch.tensor([1.])\n",
        "print(x)\n",
        "print(x.requires_grad)\n",
        "\n",
        "x.requires_grad = True\n",
        "print(x)\n",
        "print(x.requires_grad)"
      ],
      "metadata": {
        "colab": {
          "base_uri": "https://localhost:8080/"
        },
        "id": "ecQcPcFUOGgk",
        "outputId": "e3c66cf0-5e63-4eea-facd-004caa8335af"
      },
      "execution_count": 25,
      "outputs": [
        {
          "output_type": "stream",
          "name": "stdout",
          "text": [
            "tensor([1.])\n",
            "False\n",
            "tensor([1.], requires_grad=True)\n",
            "True\n"
          ]
        }
      ]
    },
    {
      "cell_type": "code",
      "source": [
        "x = torch.tensor([1.],requires_grad=True)\n",
        "y = x**2\n",
        "print(y) # PowBackward0가 붙어있음\n",
        "\n",
        "print(x.grad)\n",
        "y.backward() # 미분하는 함수\n",
        "print(x.grad) # y=x**2을 미분한 2x의 x값에 1을 대입한 gradient 값"
      ],
      "metadata": {
        "colab": {
          "base_uri": "https://localhost:8080/"
        },
        "id": "t9cvyQcIOckJ",
        "outputId": "8d178a59-e40c-44ae-9cb5-fd516bcd23be"
      },
      "execution_count": 27,
      "outputs": [
        {
          "output_type": "stream",
          "name": "stdout",
          "text": [
            "tensor([1.], grad_fn=<PowBackward0>)\n",
            "None\n",
            "tensor([2.])\n"
          ]
        }
      ]
    },
    {
      "cell_type": "code",
      "source": [
        "x = torch.tensor([1.],requires_grad=True)\n",
        "y = x**2\n",
        "print(y)\n",
        "y.retain_grad() # 이걸 하면 y.grad도 볼 수 있다\n",
        "\n",
        "z = 3*y\n",
        "print(z) # MulBackward0가 붙어있음\n",
        "\n",
        "z.backward()\n",
        "print(x.grad) # chain rule로 알아냄\n",
        "print(y.grad)"
      ],
      "metadata": {
        "colab": {
          "base_uri": "https://localhost:8080/"
        },
        "id": "9CSpCUFtOyDa",
        "outputId": "a8f80742-51c8-462c-d160-92bf475c96ff"
      },
      "execution_count": 29,
      "outputs": [
        {
          "output_type": "stream",
          "name": "stdout",
          "text": [
            "tensor([1.], grad_fn=<PowBackward0>)\n",
            "tensor([3.], grad_fn=<MulBackward0>)\n",
            "tensor([6.])\n",
            "tensor([3.])\n"
          ]
        }
      ]
    },
    {
      "cell_type": "code",
      "source": [
        "x = torch.tensor([1.],requires_grad=True)\n",
        "y = torch.tensor([1.],requires_grad=True)\n",
        "z = 2*x**2 + y**2\n",
        "print(z)\n",
        "\n",
        "z.backward()\n",
        "print(x.grad)\n",
        "print(y.grad)"
      ],
      "metadata": {
        "colab": {
          "base_uri": "https://localhost:8080/"
        },
        "id": "jq_oxyWCTVLx",
        "outputId": "69904f83-7976-4b42-ae0a-30b80b6c1639"
      },
      "execution_count": 2,
      "outputs": [
        {
          "output_type": "stream",
          "name": "stdout",
          "text": [
            "tensor([3.], grad_fn=<AddBackward0>)\n",
            "tensor([4.])\n",
            "tensor([2.])\n"
          ]
        }
      ]
    },
    {
      "cell_type": "code",
      "source": [
        "x = torch.tensor([1.],requires_grad=True)\n",
        "y = torch.tensor([1.],requires_grad=True)\n",
        "z = y*x**2\n",
        "\n",
        "z.backward()\n",
        "print(x.grad) # x에 대해 편미분\n",
        "print(y.grad) # y에 대해 편미분"
      ],
      "metadata": {
        "colab": {
          "base_uri": "https://localhost:8080/"
        },
        "id": "HaXTAP5E4m0K",
        "outputId": "c2842941-4774-4278-995b-43e2573fc8b2"
      },
      "execution_count": 3,
      "outputs": [
        {
          "output_type": "stream",
          "name": "stdout",
          "text": [
            "tensor([2.])\n",
            "tensor([1.])\n"
          ]
        }
      ]
    },
    {
      "cell_type": "code",
      "source": [
        "x = torch.tensor([1., 2., 3.],requires_grad=True)\n",
        "y = torch.sum(x**2) # x_1**2 + x_2**2 + x_3**2\n",
        "y.backward()\n",
        "\n",
        "print(y)\n",
        "print(x.grad) # 스칼라를 벡터로 미분"
      ],
      "metadata": {
        "colab": {
          "base_uri": "https://localhost:8080/"
        },
        "id": "DZWvDG5U5tIh",
        "outputId": "76a42f08-5c1f-4474-af33-768d77e0f7f6"
      },
      "execution_count": 4,
      "outputs": [
        {
          "output_type": "stream",
          "name": "stdout",
          "text": [
            "tensor(14., grad_fn=<SumBackward0>)\n",
            "tensor([2., 4., 6.])\n"
          ]
        }
      ]
    },
    {
      "cell_type": "code",
      "source": [
        "x = torch.tensor([1.],requires_grad=True)\n",
        "x.requires_grad=False\n",
        "# Transfer learning시 필요\n",
        "y = x**2\n",
        "print(y)\n",
        "# y.backward() # error"
      ],
      "metadata": {
        "id": "7iO0RQnY5_fU"
      },
      "execution_count": null,
      "outputs": []
    },
    {
      "cell_type": "code",
      "source": [
        "x = torch.tensor([2.],requires_grad=True)\n",
        "x2 = x.detach() # detach는 requires_grad=False인 새로운 텐서를 만드는 것\n",
        "print(x)\n",
        "print(x2)\n",
        "\n",
        "y=x**2\n",
        "print(y)\n",
        "\n",
        "y2=x2**2\n",
        "print(y2)"
      ],
      "metadata": {
        "colab": {
          "base_uri": "https://localhost:8080/"
        },
        "id": "QhlBV6Md6cYz",
        "outputId": "09ef1054-f31d-4c70-8ee3-d180efa022a3"
      },
      "execution_count": 5,
      "outputs": [
        {
          "output_type": "stream",
          "name": "stdout",
          "text": [
            "tensor([2.], requires_grad=True)\n",
            "tensor([2.])\n",
            "tensor([4.], grad_fn=<PowBackward0>)\n",
            "tensor([4.])\n"
          ]
        }
      ]
    },
    {
      "cell_type": "code",
      "source": [
        "# detach 용도\n",
        "x = torch.tensor([1.],requires_grad=True)\n",
        "y = x**2\n",
        "z = y.detach() # x로 만든 것을 상수로 사용하고 싶은 것(y.requres_frad=False와 같은 식으로 중간에 상수로 바꿀 수 없음)\n",
        "w = y+z # x**2+1과 같음\n",
        "\n",
        "w.backward()\n",
        "print(x.grad)"
      ],
      "metadata": {
        "colab": {
          "base_uri": "https://localhost:8080/"
        },
        "id": "BXObIq3U6ukO",
        "outputId": "5e6f76ab-4ab1-48da-cb88-3dc3aa486e72"
      },
      "execution_count": 6,
      "outputs": [
        {
          "output_type": "stream",
          "name": "stdout",
          "text": [
            "tensor([2.])\n"
          ]
        }
      ]
    },
    {
      "cell_type": "code",
      "source": [
        "# torch.no_grad\n",
        "x = torch.tensor([1.],requires_grad=True)\n",
        "# chain rul을 위해 계속 grad_fn을 update하니까 grad_fn 계산을 잠시 멈추고 싶을 때\n",
        "# 모델 테스트 시에는 불필요하게 메모리 사용할 필요 없기에 해당 상황에 사용\n",
        "with torch.no_grad():\n",
        "  y = x**2\n",
        "  print(x.requires_grad)\n",
        "  print(y) # with 안에서 계산되는 것은 grad_fn이 붙지 않음\n",
        "print(x.requires_grad)\n",
        "# y.backward()  # error\n",
        "y = x**2\n",
        "print(y)\n",
        "\n",
        "x = torch.tensor([1.],requires_grad=True)\n",
        "x.requires_grad=False\n",
        "y = x**2\n",
        "print(x.requires_grad)\n",
        "print(y)\n",
        "# y.backward() # error"
      ],
      "metadata": {
        "colab": {
          "base_uri": "https://localhost:8080/"
        },
        "id": "iq8TqPEd7SI_",
        "outputId": "6a18b5cc-2a78-4faa-e6f7-1894eba9209a"
      },
      "execution_count": 7,
      "outputs": [
        {
          "output_type": "stream",
          "name": "stdout",
          "text": [
            "True\n",
            "tensor([1.])\n",
            "True\n",
            "tensor([1.], grad_fn=<PowBackward0>)\n",
            "False\n",
            "tensor([1.])\n"
          ]
        }
      ]
    },
    {
      "cell_type": "code",
      "source": [
        "# !pip install torchviz\n",
        "# from torchviz import make_dot\n",
        "\n",
        "x = torch.tensor([1.],requires_grad=True)\n",
        "# make_dot(x)\n",
        "# make_dot(x**2) # (1)이라고 써있는 것은 shape를 나타냄\n",
        "# make_dot(x**2+1)\n",
        "# make_dot((x**2+1)**2)\n",
        "\n",
        "y = 2*x\n",
        "z = 3+x\n",
        "r = y+z\n",
        "make_dot(r)"
      ],
      "metadata": {
        "colab": {
          "base_uri": "https://localhost:8080/",
          "height": 382
        },
        "id": "HzoXHZGT8pM7",
        "outputId": "14405df5-ef54-4764-8002-f3ab7316fc3e"
      },
      "execution_count": 9,
      "outputs": [
        {
          "output_type": "execute_result",
          "data": {
            "image/svg+xml": "<?xml version=\"1.0\" encoding=\"UTF-8\" standalone=\"no\"?>\n<!DOCTYPE svg PUBLIC \"-//W3C//DTD SVG 1.1//EN\"\n \"http://www.w3.org/Graphics/SVG/1.1/DTD/svg11.dtd\">\n<!-- Generated by graphviz version 2.43.0 (0)\n -->\n<!-- Title: %3 Pages: 1 -->\n<svg width=\"204pt\" height=\"271pt\"\n viewBox=\"0.00 0.00 204.00 271.00\" xmlns=\"http://www.w3.org/2000/svg\" xmlns:xlink=\"http://www.w3.org/1999/xlink\">\n<g id=\"graph0\" class=\"graph\" transform=\"scale(1 1) rotate(0) translate(4 267)\">\n<title>%3</title>\n<polygon fill=\"white\" stroke=\"transparent\" points=\"-4,4 -4,-267 200,-267 200,4 -4,4\"/>\n<!-- 133602502267280 -->\n<g id=\"node1\" class=\"node\">\n<title>133602502267280</title>\n<polygon fill=\"#caff70\" stroke=\"black\" points=\"124.5,-31 70.5,-31 70.5,0 124.5,0 124.5,-31\"/>\n<text text-anchor=\"middle\" x=\"97.5\" y=\"-7\" font-family=\"monospace\" font-size=\"10.00\"> (1)</text>\n</g>\n<!-- 133602519004496 -->\n<g id=\"node2\" class=\"node\">\n<title>133602519004496</title>\n<polygon fill=\"lightgrey\" stroke=\"black\" points=\"142,-86 53,-86 53,-67 142,-67 142,-86\"/>\n<text text-anchor=\"middle\" x=\"97.5\" y=\"-74\" font-family=\"monospace\" font-size=\"10.00\">AddBackward0</text>\n</g>\n<!-- 133602519004496&#45;&gt;133602502267280 -->\n<g id=\"edge6\" class=\"edge\">\n<title>133602519004496&#45;&gt;133602502267280</title>\n<path fill=\"none\" stroke=\"black\" d=\"M97.5,-66.79C97.5,-60.07 97.5,-50.4 97.5,-41.34\"/>\n<polygon fill=\"black\" stroke=\"black\" points=\"101,-41.19 97.5,-31.19 94,-41.19 101,-41.19\"/>\n</g>\n<!-- 133602519000224 -->\n<g id=\"node3\" class=\"node\">\n<title>133602519000224</title>\n<polygon fill=\"lightgrey\" stroke=\"black\" points=\"89,-141 0,-141 0,-122 89,-122 89,-141\"/>\n<text text-anchor=\"middle\" x=\"44.5\" y=\"-129\" font-family=\"monospace\" font-size=\"10.00\">MulBackward0</text>\n</g>\n<!-- 133602519000224&#45;&gt;133602519004496 -->\n<g id=\"edge1\" class=\"edge\">\n<title>133602519000224&#45;&gt;133602519004496</title>\n<path fill=\"none\" stroke=\"black\" d=\"M53.25,-121.75C60.97,-114.03 72.4,-102.6 81.72,-93.28\"/>\n<polygon fill=\"black\" stroke=\"black\" points=\"84.31,-95.64 88.91,-86.09 79.36,-90.69 84.31,-95.64\"/>\n</g>\n<!-- 133602504091072 -->\n<g id=\"node4\" class=\"node\">\n<title>133602504091072</title>\n<polygon fill=\"lightgrey\" stroke=\"black\" points=\"148,-196 47,-196 47,-177 148,-177 148,-196\"/>\n<text text-anchor=\"middle\" x=\"97.5\" y=\"-184\" font-family=\"monospace\" font-size=\"10.00\">AccumulateGrad</text>\n</g>\n<!-- 133602504091072&#45;&gt;133602519000224 -->\n<g id=\"edge2\" class=\"edge\">\n<title>133602504091072&#45;&gt;133602519000224</title>\n<path fill=\"none\" stroke=\"black\" d=\"M88.75,-176.75C81.03,-169.03 69.6,-157.6 60.28,-148.28\"/>\n<polygon fill=\"black\" stroke=\"black\" points=\"62.64,-145.69 53.09,-141.09 57.69,-150.64 62.64,-145.69\"/>\n</g>\n<!-- 133602518999696 -->\n<g id=\"node6\" class=\"node\">\n<title>133602518999696</title>\n<polygon fill=\"lightgrey\" stroke=\"black\" points=\"196,-141 107,-141 107,-122 196,-122 196,-141\"/>\n<text text-anchor=\"middle\" x=\"151.5\" y=\"-129\" font-family=\"monospace\" font-size=\"10.00\">AddBackward0</text>\n</g>\n<!-- 133602504091072&#45;&gt;133602518999696 -->\n<g id=\"edge5\" class=\"edge\">\n<title>133602504091072&#45;&gt;133602518999696</title>\n<path fill=\"none\" stroke=\"black\" d=\"M106.42,-176.75C114.28,-169.03 125.93,-157.6 135.42,-148.28\"/>\n<polygon fill=\"black\" stroke=\"black\" points=\"138.06,-150.59 142.75,-141.09 133.16,-145.6 138.06,-150.59\"/>\n</g>\n<!-- 133602502267664 -->\n<g id=\"node5\" class=\"node\">\n<title>133602502267664</title>\n<polygon fill=\"lightblue\" stroke=\"black\" points=\"124.5,-263 70.5,-263 70.5,-232 124.5,-232 124.5,-263\"/>\n<text text-anchor=\"middle\" x=\"97.5\" y=\"-239\" font-family=\"monospace\" font-size=\"10.00\"> (1)</text>\n</g>\n<!-- 133602502267664&#45;&gt;133602504091072 -->\n<g id=\"edge3\" class=\"edge\">\n<title>133602502267664&#45;&gt;133602504091072</title>\n<path fill=\"none\" stroke=\"black\" d=\"M97.5,-231.92C97.5,-224.22 97.5,-214.69 97.5,-206.43\"/>\n<polygon fill=\"black\" stroke=\"black\" points=\"101,-206.25 97.5,-196.25 94,-206.25 101,-206.25\"/>\n</g>\n<!-- 133602518999696&#45;&gt;133602519004496 -->\n<g id=\"edge4\" class=\"edge\">\n<title>133602518999696&#45;&gt;133602519004496</title>\n<path fill=\"none\" stroke=\"black\" d=\"M142.58,-121.75C134.72,-114.03 123.07,-102.6 113.58,-93.28\"/>\n<polygon fill=\"black\" stroke=\"black\" points=\"115.84,-90.6 106.25,-86.09 110.94,-95.59 115.84,-90.6\"/>\n</g>\n</g>\n</svg>\n",
            "text/plain": [
              "<graphviz.graphs.Digraph at 0x7982c30ac590>"
            ]
          },
          "metadata": {},
          "execution_count": 9
        }
      ]
    },
    {
      "cell_type": "markdown",
      "source": [
        "# 3.1. nn.Linear\n",
        "---"
      ],
      "metadata": {
        "id": "TgNVWPhy-MpL"
      }
    },
    {
      "cell_type": "code",
      "source": [],
      "metadata": {
        "id": "3X83FtFl9WUK"
      },
      "execution_count": null,
      "outputs": []
    }
  ]
}
